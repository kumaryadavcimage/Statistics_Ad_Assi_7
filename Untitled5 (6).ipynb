{
 "cells": [
  {
   "cell_type": "markdown",
   "id": "0c9278f5-0eed-438b-b09e-a7e5db7c182e",
   "metadata": {},
   "source": [
    "#### Q1. Write a Python function that takes in two arrays of data and calculates the F-value for a variance ratio test. The function should return the F-value and the corresponding p-value for the test."
   ]
  },
  {
   "cell_type": "markdown",
   "id": "552c6a81-f5c3-4e5d-9ce8-78a859081154",
   "metadata": {},
   "source": [
    "#### solve\n",
    "The F-test is used to compare two variances to see if they come from populations with equal variances. Here’s a Python function to compute the F-value and the corresponding p-value for a variance ratio test using scipy.stats:"
   ]
  },
  {
   "cell_type": "code",
   "execution_count": 1,
   "id": "01c46009-05a2-4052-8867-0018e11a7fb7",
   "metadata": {},
   "outputs": [
    {
     "name": "stdout",
     "output_type": "stream",
     "text": [
      "F-value: 1.0, p-value: 1.0\n"
     ]
    }
   ],
   "source": [
    "import numpy as np\n",
    "from scipy.stats import f\n",
    "\n",
    "def variance_ratio_test(data1, data2):\n",
    "    \"\"\"\n",
    "    Performs an F-test to compare the variances of two datasets.\n",
    "    \n",
    "    Parameters:\n",
    "    data1 (array-like): The first dataset.\n",
    "    data2 (array-like): The second dataset.\n",
    "    \n",
    "    Returns:\n",
    "    f_value (float): The computed F-value for the test.\n",
    "    p_value (float): The corresponding p-value for the test.\n",
    "    \"\"\"\n",
    "    # Calculate the variances of both datasets\n",
    "    var1 = np.var(data1, ddof=1)\n",
    "    var2 = np.var(data2, ddof=1)\n",
    "    \n",
    "    # Calculate the degrees of freedom for both datasets\n",
    "    df1 = len(data1) - 1\n",
    "    df2 = len(data2) - 1\n",
    "    \n",
    "    # Compute the F-value\n",
    "    if var1 > var2:\n",
    "        f_value = var1 / var2\n",
    "        p_value = f.cdf(f_value, df1, df2)  # One-tailed p-value\n",
    "    else:\n",
    "        f_value = var2 / var1\n",
    "        p_value = f.cdf(f_value, df2, df1)  # One-tailed p-value\n",
    "\n",
    "    # The p-value should be adjusted to be two-tailed\n",
    "    p_value = 2 * min(p_value, 1 - p_value)\n",
    "    \n",
    "    return f_value, p_value\n",
    "\n",
    "# Example usage\n",
    "data1 = [10, 20, 30, 40, 50]\n",
    "data2 = [15, 25, 35, 45, 55]\n",
    "\n",
    "f_value, p_value = variance_ratio_test(data1, data2)\n",
    "print(f\"F-value: {f_value}, p-value: {p_value}\")\n"
   ]
  },
  {
   "cell_type": "markdown",
   "id": "834051b9-b688-4549-8663-4d3f3f45b5b9",
   "metadata": {},
   "source": [
    "####\n",
    "Explanation:\n",
    "\n",
    "i.Calculating Variances:\n",
    "- We use np.var with ddof=1 to calculate the sample variance (unbiased estimator).\n",
    "\n",
    "ii.Degrees of Freedom:\n",
    "- For each dataset, the degrees of freedom are n - 1, where n is the number of observations.\n",
    "\n",
    "iii.Computing the F-value:\n",
    "- The F-value is the ratio of the two sample variances. If var1 is greater than var2, the F-value is var1 / var2. Otherwise, it's var2 / var1.\n",
    "\n",
    "iv.Computing the p-value:\n",
    "- f.cdf is used to get the cumulative distribution function (CDF) value for the computed F-value, which gives us the one-tailed p-value.\n",
    "- To get the two-tailed p-value, we multiply the smaller of the one-tailed p-value and its complement by 2."
   ]
  },
  {
   "cell_type": "markdown",
   "id": "64f1b43c-c7ae-4f23-b3e7-0c97df17a413",
   "metadata": {},
   "source": [
    "#### Q2. Given a significance level of 0.05 and the degrees of freedom for the numerator and denominator of an F-distribution, write a Python function that returns the critical F-value for a two-tailed test."
   ]
  },
  {
   "cell_type": "markdown",
   "id": "ee80a3b8-cf85-4931-98cb-2d0454c7d470",
   "metadata": {},
   "source": [
    "#### solve\n",
    "To find the critical F-value for a two-tailed test given a significance level and degrees of freedom for the numerator and denominator, we can use the percent point function (PPF), which is the inverse of the cumulative distribution function (CDF).\n",
    "\n",
    "Here's a Python function to calculate the critical F-value for a two-tailed test:"
   ]
  },
  {
   "cell_type": "code",
   "execution_count": 2,
   "id": "ccf3fc38-8bfb-4d42-88fd-37f12bd19e57",
   "metadata": {},
   "outputs": [
    {
     "name": "stdout",
     "output_type": "stream",
     "text": [
      "Critical F-value for a two-tailed test: 4.236085668188633\n"
     ]
    }
   ],
   "source": [
    "from scipy.stats import f\n",
    "\n",
    "def critical_f_value(alpha, dfn, dfd):\n",
    "    \"\"\"\n",
    "    Calculates the critical F-value for a two-tailed test given a significance level and degrees of freedom.\n",
    "    \n",
    "    Parameters:\n",
    "    alpha (float): Significance level (e.g., 0.05 for a 5% significance level).\n",
    "    dfn (int): Degrees of freedom for the numerator.\n",
    "    dfd (int): Degrees of freedom for the denominator.\n",
    "    \n",
    "    Returns:\n",
    "    critical_value (float): The critical F-value for the two-tailed test.\n",
    "    \"\"\"\n",
    "    # Calculate the critical value for the upper tail\n",
    "    upper_critical_value = f.ppf(1 - alpha / 2, dfn, dfd)\n",
    "    \n",
    "    return upper_critical_value\n",
    "\n",
    "# Example usage\n",
    "alpha = 0.05\n",
    "dfn = 5  # degrees of freedom for the numerator\n",
    "dfd = 10  # degrees of freedom for the denominator\n",
    "\n",
    "critical_value = critical_f_value(alpha, dfn, dfd)\n",
    "print(f\"Critical F-value for a two-tailed test: {critical_value}\")\n"
   ]
  },
  {
   "cell_type": "markdown",
   "id": "e291da5d-fa6c-4b41-85bf-d70a15f72511",
   "metadata": {},
   "source": [
    "####\n",
    "Explanation:\n",
    "\n",
    "i.Significance Level (alpha):\n",
    "- The significance level represents the probability of rejecting the null hypothesis when it is true. For a two-tailed test, the alpha level is split between the two tails of the F-distribution.\n",
    "\n",
    "ii.Degrees of Freedom (dfn, dfd):\n",
    "- dfn: Degrees of freedom for the numerator.\n",
    "\n",
    "iii.Calculating the Critical Value:\n",
    "- For a two-tailed test, the critical F-value is found using the upper tail critical value at 1 - alpha / 2. This is because the F-distribution is not symmetric and we need to consider the upper tail for a two-tailed test.\n",
    "\n",
    "iv.f.ppf Function:\n",
    "- The ppf function from scipy.stats.f computes the inverse of the CDF, which gives us the critical value for the specified probability."
   ]
  },
  {
   "cell_type": "markdown",
   "id": "22a1ece7-cdac-44b5-977d-be5f5c981c81",
   "metadata": {},
   "source": [
    "#### Q3. Write a Python program that generates random samples from two normal distributions with known variances and uses an F-test to determine if the variances are equal. The program should output the F- value, degrees of freedom, and p-value for the test."
   ]
  },
  {
   "cell_type": "markdown",
   "id": "0344e588-0c2e-4ea9-82cd-2dd6a220848b",
   "metadata": {},
   "source": [
    "#### solve\n",
    "Below is a Python program that generates random samples from two normal distributions with known variances, performs an F-test to determine if the variances are equal, and outputs the F-value, degrees of freedom, and p-value for the test:"
   ]
  },
  {
   "cell_type": "code",
   "execution_count": 3,
   "id": "bd60a462-422c-4952-8644-b1346fe16067",
   "metadata": {},
   "outputs": [
    {
     "name": "stdout",
     "output_type": "stream",
     "text": [
      "F-value: 1.148344284494813\n",
      "Degrees of freedom for the numerator: 29\n",
      "Degrees of freedom for the denominator: 29\n",
      "P-value: 0.7120538617206862\n"
     ]
    }
   ],
   "source": [
    "import numpy as np\n",
    "from scipy.stats import f\n",
    "\n",
    "def generate_samples(mean1, var1, size1, mean2, var2, size2):\n",
    "    \"\"\"\n",
    "    Generates random samples from two normal distributions with specified means and variances.\n",
    "    \n",
    "    Parameters:\n",
    "    mean1 (float): Mean of the first normal distribution.\n",
    "    var1 (float): Variance of the first normal distribution.\n",
    "    size1 (int): Number of samples from the first normal distribution.\n",
    "    mean2 (float): Mean of the second normal distribution.\n",
    "    var2 (float): Variance of the second normal distribution.\n",
    "    size2 (int): Number of samples from the second normal distribution.\n",
    "    \n",
    "    Returns:\n",
    "    data1 (numpy array): Random samples from the first normal distribution.\n",
    "    data2 (numpy array): Random samples from the second normal distribution.\n",
    "    \"\"\"\n",
    "    std1 = np.sqrt(var1)\n",
    "    std2 = np.sqrt(var2)\n",
    "    \n",
    "    data1 = np.random.normal(mean1, std1, size1)\n",
    "    data2 = np.random.normal(mean2, std2, size2)\n",
    "    \n",
    "    return data1, data2\n",
    "\n",
    "def variance_ratio_test(data1, data2):\n",
    "    \"\"\"\n",
    "    Performs an F-test to compare the variances of two datasets.\n",
    "    \n",
    "    Parameters:\n",
    "    data1 (array-like): The first dataset.\n",
    "    data2 (array-like): The second dataset.\n",
    "    \n",
    "    Returns:\n",
    "    f_value (float): The computed F-value for the test.\n",
    "    p_value (float): The corresponding p-value for the test.\n",
    "    df1 (int): Degrees of freedom for the numerator.\n",
    "    df2 (int): Degrees of freedom for the denominator.\n",
    "    \"\"\"\n",
    "    # Calculate the variances of both datasets\n",
    "    var1 = np.var(data1, ddof=1)\n",
    "    var2 = np.var(data2, ddof=1)\n",
    "    \n",
    "    # Calculate the degrees of freedom for both datasets\n",
    "    df1 = len(data1) - 1\n",
    "    df2 = len(data2) - 1\n",
    "    \n",
    "    # Compute the F-value\n",
    "    if var1 > var2:\n",
    "        f_value = var1 / var2\n",
    "        p_value = f.cdf(f_value, df1, df2)  # One-tailed p-value\n",
    "    else:\n",
    "        f_value = var2 / var1\n",
    "        p_value = f.cdf(f_value, df2, df1)  # One-tailed p-value\n",
    "\n",
    "    # The p-value should be adjusted to be two-tailed\n",
    "    p_value = 2 * min(p_value, 1 - p_value)\n",
    "    \n",
    "    return f_value, p_value, df1, df2\n",
    "\n",
    "# Parameters for the normal distributions\n",
    "mean1 = 10\n",
    "var1 = 4\n",
    "size1 = 30\n",
    "\n",
    "mean2 = 10\n",
    "var2 = 6\n",
    "size2 = 30\n",
    "\n",
    "# Generate random samples\n",
    "data1, data2 = generate_samples(mean1, var1, size1, mean2, var2, size2)\n",
    "\n",
    "# Perform the F-test\n",
    "f_value, p_value, df1, df2 = variance_ratio_test(data1, data2)\n",
    "\n",
    "# Output the results\n",
    "print(f\"F-value: {f_value}\")\n",
    "print(f\"Degrees of freedom for the numerator: {df1}\")\n",
    "print(f\"Degrees of freedom for the denominator: {df2}\")\n",
    "print(f\"P-value: {p_value}\")\n"
   ]
  },
  {
   "cell_type": "markdown",
   "id": "f38c5520-7528-44d1-b919-56c4fd3969a6",
   "metadata": {},
   "source": [
    "#### \n",
    "Explanation:\n",
    "\n",
    "i.Generating Random Samples:\n",
    "- The generate_samples function generates random samples from two normal distributions using np.random.normal. It takes the mean, variance, and sample size for each distribution and returns the generated samples.\n",
    "\n",
    "ii.Performing the F-test:\n",
    "- The variance_ratio_test function calculates the sample variances and degrees of freedom for both datasets.\n",
    "- It computes the F-value by taking the ratio of the variances (the larger variance over the smaller variance).\n",
    "- It calculates the p-value using the cumulative distribution function (CDF) from scipy.stats.f. The p-value is adjusted to be two-tailed.\n",
    "\n",
    "iii.Output:\n",
    "- The program prints the F-value, degrees of freedom for the numerator and denominator, and the p-value."
   ]
  },
  {
   "cell_type": "markdown",
   "id": "fe8b9694-a3cb-414a-a8ca-b5f438ca20bb",
   "metadata": {},
   "source": [
    "#### Q4.The variances of two populations are known to be 10 and 15. A sample of 12 observations is taken from each population. Conduct an F-test at the 5% significance level to determine if the variances are significantly different."
   ]
  },
  {
   "cell_type": "markdown",
   "id": "bbe3adf0-6e5e-4aae-bf4a-9961dc070742",
   "metadata": {},
   "source": [
    "#### solve\n",
    "To conduct an F-test at the 5% significance level to determine if the variances of two populations are significantly different, we need to use the known variances and sample sizes. Here's how you can perform the test step-by-step:\n",
    "\n",
    "Identify the variances and sample sizes:\n",
    "\n",
    "Variance of the first population (\n",
    "𝜎\n",
    "1\n",
    "2\n",
    "σ \n",
    "1\n",
    "2\n",
    "​\n",
    " ): 10\n",
    "Variance of the second population (\n",
    "𝜎\n",
    "2\n",
    "2\n",
    "σ \n",
    "2\n",
    "2\n",
    "​\n",
    " ): 15\n",
    "Sample size for both populations (\n",
    "𝑛\n",
    "n): 12\n",
    "Calculate the sample variances:\n",
    "\n",
    "Since the variances of the populations are known, we will use these variances directly.\n",
    "Calculate the F-value:\n",
    "\n",
    "The F-value is the ratio of the two sample variances. By convention, we put the larger variance in the numerator to get an F-value greater than or equal to 1."
   ]
  },
  {
   "cell_type": "markdown",
   "id": "e6bbf46c-cf4f-4527-b8c7-44b23d84f278",
   "metadata": {},
   "source": [
    "#### Q5. A manufacturer claims that the variance of the diameter of a certain product is 0.005. A sample of 25 products is taken, and the sample variance is found to be 0.006. Conduct an F-test at the 1% significance level to determine if the claim is justified."
   ]
  },
  {
   "cell_type": "markdown",
   "id": "e77ae20d-c543-4c40-80fa-0ccd0a3d6b74",
   "metadata": {},
   "source": [
    "#### solve\n",
    "To conduct an F-test to determine if the manufacturer's claim about the variance is justified, we need to compare the sample variance to the claimed variance using the F-distribution. Here's how we can perform the test step-by-step:"
   ]
  },
  {
   "cell_type": "code",
   "execution_count": 8,
   "id": "874c3d40-f36a-4055-a278-aafd994ca3e5",
   "metadata": {},
   "outputs": [
    {
     "name": "stdout",
     "output_type": "stream",
     "text": [
      "F-value: 1.2\n",
      "Degrees of freedom for the numerator: 24\n",
      "Degrees of freedom for the denominator: 24\n",
      "Critical F-value (lower): 0.3370701342685674\n",
      "Critical F-value (upper): 2.966741631292762\n",
      "P-value: 0.6587309365634488\n",
      "Fail to reject the null hypothesis: The variance is not significantly different from the claimed variance.\n"
     ]
    }
   ],
   "source": [
    "from scipy.stats import f\n",
    "\n",
    "# Given data\n",
    "claimed_variance = 0.005\n",
    "sample_variance = 0.006\n",
    "n = 25\n",
    "\n",
    "# Calculate the F-value\n",
    "F_value = sample_variance / claimed_variance\n",
    "\n",
    "# Degrees of freedom\n",
    "dfn = n - 1\n",
    "dfd = n - 1\n",
    "\n",
    "# Significance level\n",
    "alpha = 0.01\n",
    "\n",
    "# Critical F-values for two-tailed test\n",
    "F_critical_lower = f.ppf(alpha / 2, dfn, dfd)\n",
    "F_critical_upper = f.ppf(1 - alpha / 2, dfn, dfd)\n",
    "\n",
    "# P-value\n",
    "if F_value > 1:\n",
    "    p_value = 2 * (1 - f.cdf(F_value, dfn, dfd))\n",
    "else:\n",
    "    p_value = 2 * f.cdf(F_value, dfn, dfd)\n",
    "\n",
    "# Output the results\n",
    "print(f\"F-value: {F_value}\")\n",
    "print(f\"Degrees of freedom for the numerator: {dfn}\")\n",
    "print(f\"Degrees of freedom for the denominator: {dfd}\")\n",
    "print(f\"Critical F-value (lower): {F_critical_lower}\")\n",
    "print(f\"Critical F-value (upper): {F_critical_upper}\")\n",
    "print(f\"P-value: {p_value}\")\n",
    "\n",
    "# Decision\n",
    "if F_value < F_critical_lower or F_value > F_critical_upper:\n",
    "    print(\"Reject the null hypothesis: The variances are significantly different.\")\n",
    "else:\n",
    "    print(\"Fail to reject the null hypothesis: The variance is not significantly different from the claimed variance.\")\n"
   ]
  },
  {
   "cell_type": "code",
   "execution_count": null,
   "id": "6b74f9f3-264a-49f3-a8c5-f119585331d6",
   "metadata": {},
   "outputs": [],
   "source": []
  },
  {
   "cell_type": "markdown",
   "id": "f4c97b4a-a2ec-496d-a2db-af6d5f62f6a4",
   "metadata": {},
   "source": [
    "#### Q6. Write a Python function that takes in the degrees of freedom for the numerator and denominator of an F-distribution and calculates the mean and variance of the distribution. The function should return the mean and variance as a tuple."
   ]
  },
  {
   "cell_type": "markdown",
   "id": "36e36d94-850b-4aa6-885d-9085750d0f9d",
   "metadata": {},
   "source": [
    "#### solve\n",
    "To calculate the mean and variance of an F-distribution given the degrees of freedom for the numerator (dfn) and the denominator (dfd), we can use the know formulas for the mean and variance of and F-distribution."
   ]
  },
  {
   "cell_type": "code",
   "execution_count": 7,
   "id": "5a171b17-15e6-419a-b1dc-d715e8fc3edb",
   "metadata": {},
   "outputs": [
    {
     "name": "stdout",
     "output_type": "stream",
     "text": [
      "Mean: 1.25\n",
      "Variance: 1.3541666666666667\n"
     ]
    }
   ],
   "source": [
    "def f_distribution_mean_variance(dfn, dfd):\r\n",
    "    \"\"\"\r\n",
    "    Calculates the mean and variance of an F-distribution given the degrees of freedom.\r\n",
    "    \r\n",
    "    Parameters:\r\n",
    "    dfn (int): Degrees of freedom for the numerator.\r\n",
    "    dfd (int): Degrees of freedom for the denominator.\r\n",
    "    \r\n",
    "    Returns:\r\n",
    "    tuple: (mean, variance)\r\n",
    "    \"\"\"\r\n",
    "    if dfd <= 2:\r\n",
    "        mean = float('inf')  # Mean is not defined for dfd <= 2\r\n",
    "    else:\r\n",
    "        mean = dfd / (dfd - 2)\r\n",
    "    \r\n",
    "    if dfd <= 4:\r\n",
    "        variance = float('inf')  # Variance is not defined for dfd <= 4\r\n",
    "    else:\r\n",
    "        variance = (2 * dfd**2 * (dfn + dfd - 2)) / (dfn * (dfd - 2)**2 * (dfd - 4))\r\n",
    "    \r\n",
    "    return mean, variance\r\n",
    "\r\n",
    "# Example usage\r\n",
    "dfn = 5\r\n",
    "dfd = 10\r\n",
    "\r\n",
    "mean, variance = f_distribution_mean_variance(dfn, dfd)\r\n",
    "print(f\"Mean: {mean}\")\r\n",
    "print(f\"Variance: {variance}\")\r\n"
   ]
  },
  {
   "cell_type": "markdown",
   "id": "a6a2e355-dcd4-436e-af60-ff7cb6cadcb3",
   "metadata": {},
   "source": [
    "####\n",
    "Explanation:\n",
    "\n",
    "i.Check Conditions:\n",
    "- Before calculating the mean and variance, the function checks if the degrees of freedom meet the necessary conditions.\n",
    "\n",
    "iii..\r\n",
    "Return the Resuls- :\r\n",
    "\r\n",
    "The function returns the mean and variance as a tuple."
   ]
  },
  {
   "cell_type": "markdown",
   "id": "40fe2fbe-d7f6-42b5-af62-5c3ef307e187",
   "metadata": {},
   "source": [
    "#### Q7. A random sample of 10 measurements is taken from a normal population with unknown variance. The sample variance is found to be 25. Another random sample of 15 measurements is taken from another normal population with unknown variance, and the sample variance is found to be 20. Conduct an F-test at the 10% significance level to determine if the variances are significantly different."
   ]
  },
  {
   "cell_type": "markdown",
   "id": "75ff1f32-3f3f-4bbc-995a-2c6b745b880d",
   "metadata": {},
   "source": [
    "#### solve\n",
    "\n",
    "To conduct an F-test at the 10% significance level to determine if the variances of the two samples are significantly different, follow these steps:\n",
    "\n",
    "i.State the hypotheses:\n",
    "- Null hypothesis(Ho): The variance of the test scores in the two groups are equal(sigma A to 2 = sigma B to 2)\n",
    "- Alternative hypothesis(HA): The variances of the test scores in the two groups are not equal(sigma A to 2 =/ sigma B to 2)\n",
    "\n",
    "ii.Given data :\n",
    "- sample size from the first population(n1):10\n",
    "- sample variance fromo the first population(s 1 to 2): 25\n",
    "- sample size from the second population(n2):15\n",
    "- sample variance from the second population(s 2 to 2): 20\n",
    "1."
   ]
  },
  {
   "cell_type": "code",
   "execution_count": 6,
   "id": "c1dce43b-7670-4e0b-9fc3-77936060f8b7",
   "metadata": {},
   "outputs": [
    {
     "name": "stdout",
     "output_type": "stream",
     "text": [
      "F-value: 1.25\n",
      "Degrees of freedom for the numerator: 9\n",
      "Degrees of freedom for the denominator: 14\n",
      "Critical F-value (lower): 0.3305268601412525\n",
      "Critical F-value (upper): 2.6457907352338195\n",
      "P-value: 0.6832194382585954\n",
      "Fail to reject the null hypothesis: The variances are not significantly different.\n"
     ]
    }
   ],
   "source": [
    "from scipy.stats import f\n",
    "\n",
    "# Given data\n",
    "s1_squared = 25\n",
    "s2_squared = 20\n",
    "n1 = 10\n",
    "n2 = 15\n",
    "\n",
    "# Calculate the F-value\n",
    "F_value = s1_squared / s2_squared\n",
    "\n",
    "# Degrees of freedom\n",
    "dfn = n1 - 1\n",
    "dfd = n2 - 1\n",
    "\n",
    "# Significance level\n",
    "alpha = 0.10\n",
    "\n",
    "# Critical F-values for two-tailed test\n",
    "F_critical_lower = f.ppf(alpha / 2, dfn, dfd)\n",
    "F_critical_upper = f.ppf(1 - alpha / 2, dfn, dfd)\n",
    "\n",
    "# P-value\n",
    "if F_value > 1:\n",
    "    p_value = 2 * (1 - f.cdf(F_value, dfn, dfd))\n",
    "else:\n",
    "    p_value = 2 * f.cdf(F_value, dfn, dfd)\n",
    "\n",
    "# Output the results\n",
    "print(f\"F-value: {F_value}\")\n",
    "print(f\"Degrees of freedom for the numerator: {dfn}\")\n",
    "print(f\"Degrees of freedom for the denominator: {dfd}\")\n",
    "print(f\"Critical F-value (lower): {F_critical_lower}\")\n",
    "print(f\"Critical F-value (upper): {F_critical_upper}\")\n",
    "print(f\"P-value: {p_value}\")\n",
    "\n",
    "# Decision\n",
    "if F_value < F_critical_lower or F_value > F_critical_upper:\n",
    "    print(\"Reject the null hypothesis: The variances are significantly different.\")\n",
    "else:\n",
    "    print(\"Fail to reject the null hypothesis: The variances are not significantly different.\")\n"
   ]
  },
  {
   "cell_type": "markdown",
   "id": "f080922e-fc26-4086-a025-9e43d6c3983c",
   "metadata": {},
   "source": [
    "#### Q8. The following data represent the waiting times in minutes at two different restaurants on a Saturday night: Restaurant A: 24, 25, 28, 23, 22, 20, 27; Restaurant B: 31, 33, 35, 30, 32, 36. Conduct an F-test at the 5% significance level to determine if the variances are significantly different."
   ]
  },
  {
   "cell_type": "markdown",
   "id": "e522d1ab-3b55-4e0a-8791-5e0370c8db71",
   "metadata": {},
   "source": [
    "#### solve\n",
    "To conduct an F-test to compare the variances of the test scores of two groups of students at a 1% significance level, we can follow these steps:\n",
    "\n",
    "i.State the hypotheses:\n",
    "- Null hypothesis(Ho): The variance of the test scores in the two groups are equal(sigma A to 2 = sigma B to 2)\n",
    "- Alternative hypothesis(HA): The variances of the test scores in the two groups are not equal(sigma A to 2 =/ sigma B to 2)\n",
    "\n",
    "ii.Given data:\n",
    "- Test scores for Group A:[24,25,28,23,22,20,27]\n",
    "- Test scores for Group B:[31, 33, 35, 30, 32, 36]\n",
    "\n",
    "iii.Calculate the sample variances:\n",
    "- sample variance of Group A (S a to 2)\n",
    "- sample variance of Group B (s b to 2)\n",
    "\n",
    "iv.Calculate the F-value:\n",
    "- The F-value is the ratio of the sample variance.By convention, we place the larger variance in the numerator to ensure the F-value is greater than or equal to 1."
   ]
  },
  {
   "cell_type": "code",
   "execution_count": 5,
   "id": "36187790-60e0-48f9-a362-79866478ec2a",
   "metadata": {},
   "outputs": [
    {
     "name": "stdout",
     "output_type": "stream",
     "text": [
      "Sample variance of Restaurant A: 7.80952380952381\n",
      "Sample variance of Restaurant B: 5.366666666666667\n",
      "F-value: 1.4551907719609583\n",
      "Degrees of freedom for the numerator: 6\n",
      "Degrees of freedom for the denominator: 5\n",
      "Critical F-value (lower): 0.16701279718024772\n",
      "Critical F-value (upper): 6.977701858535566\n",
      "P-value: 0.6974815747937484\n",
      "Fail to reject the null hypothesis: The variances are not significantly different.\n"
     ]
    }
   ],
   "source": [
    "import numpy as np\n",
    "from scipy.stats import f\n",
    "\n",
    "# Given data\n",
    "waiting_times_A = [24, 25, 28, 23, 22, 20, 27]\n",
    "waiting_times_B = [31, 33, 35, 30, 32, 36]\n",
    "\n",
    "# Calculate the sample variances\n",
    "s_A_squared = np.var(waiting_times_A, ddof=1)\n",
    "s_B_squared = np.var(waiting_times_B, ddof=1)\n",
    "\n",
    "# Calculate the F-value\n",
    "if s_A_squared > s_B_squared:\n",
    "    F_value = s_A_squared / s_B_squared\n",
    "    dfn = len(waiting_times_A) - 1\n",
    "    dfd = len(waiting_times_B) - 1\n",
    "else:\n",
    "    F_value = s_B_squared / s_A_squared\n",
    "    dfn = len(waiting_times_B) - 1\n",
    "    dfd = len(waiting_times_A) - 1\n",
    "\n",
    "# Significance level\n",
    "alpha = 0.05\n",
    "\n",
    "# Critical F-values for two-tailed test\n",
    "F_critical_lower = f.ppf(alpha / 2, dfn, dfd)\n",
    "F_critical_upper = f.ppf(1 - alpha / 2, dfn, dfd)\n",
    "\n",
    "# P-value\n",
    "if F_value > 1:\n",
    "    p_value = 2 * (1 - f.cdf(F_value, dfn, dfd))\n",
    "else:\n",
    "    p_value = 2 * f.cdf(F_value, dfn, dfd)\n",
    "\n",
    "# Output the results\n",
    "print(f\"Sample variance of Restaurant A: {s_A_squared}\")\n",
    "print(f\"Sample variance of Restaurant B: {s_B_squared}\")\n",
    "print(f\"F-value: {F_value}\")\n",
    "print(f\"Degrees of freedom for the numerator: {dfn}\")\n",
    "print(f\"Degrees of freedom for the denominator: {dfd}\")\n",
    "print(f\"Critical F-value (lower): {F_critical_lower}\")\n",
    "print(f\"Critical F-value (upper): {F_critical_upper}\")\n",
    "print(f\"P-value: {p_value}\")\n",
    "\n",
    "# Decision\n",
    "if F_value < F_critical_lower or F_value > F_critical_upper:\n",
    "    print(\"Reject the null hypothesis: The variances are significantly different.\")\n",
    "else:\n",
    "    print(\"Fail to reject the null hypothesis: The variances are not significantly different.\")\n"
   ]
  },
  {
   "cell_type": "markdown",
   "id": "3e992e39-e9d8-4fa2-889b-eff244af1e48",
   "metadata": {},
   "source": [
    "####\n",
    "Explanation:\n",
    "\n",
    "i.Calculate the Sample Variances:\n",
    "- Use np.var with ddof=1 to calculate the sample variances for both restaurants.\n",
    "\n",
    "ii.Calculate the F-value:\n",
    "- Determine the F-value by comparing the variances and putting the larger variance in the numerator.\n",
    "\n",
    "iii.Degrees of Freedom:\n",
    "- Calculate the degrees of freedom for the numerator and denominator based on the sample sizes.\n",
    "\n",
    "iv.Find Critical F-values:\n",
    "- Use the percent point function f.ppf to find the critical F-values for a two-tailed test.\n",
    "\n",
    "v.Calculate the p-value:\n",
    "- Use the cumulative distribution function f.cdf to find the p-value and adjust it for the two-tailed test.\n",
    "\n",
    "vi.Decision:\n",
    "- Compare the F-value to the critical values and decide whether to reject the null hypothesis."
   ]
  },
  {
   "cell_type": "markdown",
   "id": "d1f46d51-9d8d-4347-b066-f3c0c49c3758",
   "metadata": {},
   "source": [
    "#### Q9. The following data represent the test scores of two groups of students: Group A: 80, 85, 90, 92, 87, 83; Group B: 75, 78, 82, 79, 81, 84. Conduct an F-test at the 1% significance level to determine if the variances are significantly different."
   ]
  },
  {
   "cell_type": "markdown",
   "id": "1a7683bb-b917-472e-9c18-3449424a6b24",
   "metadata": {},
   "source": [
    "#### solve\n",
    "\n",
    "To conduct an F-test to compare the variances of the test scores of two groups of students at a 1% significance level, we can follow these steps:\n",
    "\n",
    "i.State the hypotheses:\n",
    "- Null hypothesis(Ho): The variance of the test scores in the two groups are equal(sigma A to 2 = sigma B to 2)\n",
    "- Alternative hypothesis(HA): The variances of the test scores in the two groups are not equal(sigma A to 2 =/ sigma B to 2)\n",
    "\n",
    "ii.Given data: \n",
    "- Test scores for Group A:[80,85,90,92,87,83]\n",
    "- Test scores for Group B:[75,78,82,79,81,84]\n",
    "\n",
    "iii.Calculate the sample variances:\n",
    "- sample variance of Group A (S a to 2)\n",
    "- sample variance of Group B (s b to 2)\n",
    "\n",
    "iv.Calculate the F-value:\n",
    "- The F-value is the ratio of the sample variance.By convention, we place the larger variance in the numerator to ensure the F-value is greater than or equal to 1.\n",
    "          "
   ]
  },
  {
   "cell_type": "code",
   "execution_count": 4,
   "id": "be97fdd4-f3f5-4700-87f0-293b7ade0513",
   "metadata": {},
   "outputs": [
    {
     "name": "stdout",
     "output_type": "stream",
     "text": [
      "Sample variance of Group A: 19.76666666666667\n",
      "Sample variance of Group B: 10.166666666666666\n",
      "F-value: 1.9442622950819677\n",
      "Degrees of freedom for the numerator: 5\n",
      "Degrees of freedom for the denominator: 5\n",
      "Critical F-value (lower): 0.066936171954696\n",
      "Critical F-value (upper): 14.939605459912224\n",
      "P-value: 0.4831043549070688\n",
      "Fail to reject the null hypothesis: The variances are not significantly different.\n"
     ]
    }
   ],
   "source": [
    "import numpy as np\n",
    "from scipy.stats import f\n",
    "\n",
    "# Given data\n",
    "scores_A = [80, 85, 90, 92, 87, 83]\n",
    "scores_B = [75, 78, 82, 79, 81, 84]\n",
    "\n",
    "# Calculate the sample variances\n",
    "s_A_squared = np.var(scores_A, ddof=1)\n",
    "s_B_squared = np.var(scores_B, ddof=1)\n",
    "\n",
    "# Calculate the F-value\n",
    "if s_A_squared > s_B_squared:\n",
    "    F_value = s_A_squared / s_B_squared\n",
    "    dfn = len(scores_A) - 1\n",
    "    dfd = len(scores_B) - 1\n",
    "else:\n",
    "    F_value = s_B_squared / s_A_squared\n",
    "    dfn = len(scores_B) - 1\n",
    "    dfd = len(scores_A) - 1\n",
    "\n",
    "# Significance level\n",
    "alpha = 0.01\n",
    "\n",
    "# Critical F-values for two-tailed test\n",
    "F_critical_lower = f.ppf(alpha / 2, dfn, dfd)\n",
    "F_critical_upper = f.ppf(1 - alpha / 2, dfn, dfd)\n",
    "\n",
    "# P-value\n",
    "if F_value > 1:\n",
    "    p_value = 2 * (1 - f.cdf(F_value, dfn, dfd))\n",
    "else:\n",
    "    p_value = 2 * f.cdf(F_value, dfn, dfd)\n",
    "\n",
    "# Output the results\n",
    "print(f\"Sample variance of Group A: {s_A_squared}\")\n",
    "print(f\"Sample variance of Group B: {s_B_squared}\")\n",
    "print(f\"F-value: {F_value}\")\n",
    "print(f\"Degrees of freedom for the numerator: {dfn}\")\n",
    "print(f\"Degrees of freedom for the denominator: {dfd}\")\n",
    "print(f\"Critical F-value (lower): {F_critical_lower}\")\n",
    "print(f\"Critical F-value (upper): {F_critical_upper}\")\n",
    "print(f\"P-value: {p_value}\")\n",
    "\n",
    "# Decision\n",
    "if F_value < F_critical_lower or F_value > F_critical_upper:\n",
    "    print(\"Reject the null hypothesis: The variances are significantly different.\")\n",
    "else:\n",
    "    print(\"Fail to reject the null hypothesis: The variances are not significantly different.\")\n"
   ]
  },
  {
   "cell_type": "markdown",
   "id": "597de188-c78e-4da0-a6b8-beca5389f240",
   "metadata": {},
   "source": [
    "#### \n",
    "Explanation:\n",
    "\n",
    "i.Calculate the Sample Variances:\n",
    "- Use np.var with ddof=1 to calculate the sample variances for both groups.\n",
    "\n",
    "ii.Calculate the F-value:\n",
    "- Determine the F-value by comparing the variances and putting the larger variance in the numerator.\n",
    "\n",
    "iii.Degrees of Freedom:\n",
    "- Calculate the degrees of freedom for the numerator and denominator based on the sample sizes.\n",
    "\n",
    "iv.Find Critical F-values:\n",
    "- Use the percent point function f.ppf to find the critical F-values for a two-tailed test at a 1% significance level.\n",
    "\n",
    "v.Calculate the p-value:\n",
    "- Use the cumulative distribution function f.cdf to find the p-value and adjust it for the two-tailed test.\n",
    "\n",
    "vi.Decision:\n",
    "- Compare the F-value to the critical values and decide whether to reject the null hypothesis."
   ]
  },
  {
   "cell_type": "code",
   "execution_count": null,
   "id": "7d82c044-5652-4dcd-880a-cb24e576e03e",
   "metadata": {},
   "outputs": [],
   "source": []
  }
 ],
 "metadata": {
  "kernelspec": {
   "display_name": "Python 3 (ipykernel)",
   "language": "python",
   "name": "python3"
  },
  "language_info": {
   "codemirror_mode": {
    "name": "ipython",
    "version": 3
   },
   "file_extension": ".py",
   "mimetype": "text/x-python",
   "name": "python",
   "nbconvert_exporter": "python",
   "pygments_lexer": "ipython3",
   "version": "3.11.7"
  }
 },
 "nbformat": 4,
 "nbformat_minor": 5
}
